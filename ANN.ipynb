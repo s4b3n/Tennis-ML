{
 "cells": [
  {
   "cell_type": "code",
   "execution_count": 32,
   "metadata": {},
   "outputs": [],
   "source": [
    "### IMPORTS ###\n",
    "\n",
    "import pandas as pd\n",
    "import numpy as np\n",
    "import matplotlib.pyplot as plt\n",
    "import torch\n",
    "import torch.nn as nn\n",
    "import time\n",
    "from sklearn.model_selection import train_test_split\n",
    "from sklearn.linear_model import LogisticRegression\n",
    "\n",
    "from dictionaries import *\n",
    "from ANN import *\n"
   ]
  },
  {
   "cell_type": "code",
   "execution_count": 33,
   "metadata": {},
   "outputs": [],
   "source": [
    "### GLOBAL PARAMETERS ###\n",
    "\n",
    "t = time.time()         # to display runtime later\n",
    "sample_size = 4\n",
    "filename = 'ML_input_' + str(sample_size) + 'gm.csv'\n"
   ]
  },
  {
   "cell_type": "code",
   "execution_count": 34,
   "metadata": {},
   "outputs": [],
   "source": [
    "### DATA IMPORT ###\n",
    "\n",
    "# split parameters\n",
    "test_size = 0.2\n",
    "random_state = 42\n",
    "\n",
    "# read in\n",
    "attr_data = pd.read_csv(filename, usecols = attr_keys).values\n",
    "labl_data = pd.read_csv(filename, usecols = labl_keys).values\n",
    "\n",
    "# test/train split\n",
    "attr_train, attr_test, labl_train, labl_test = train_test_split(attr_data, labl_data, test_size=test_size, random_state=random_state)\n"
   ]
  },
  {
   "cell_type": "code",
   "execution_count": 35,
   "metadata": {},
   "outputs": [],
   "source": [
    "## MODEL PARAMETERS ###\n",
    "\n",
    "# CUDA\n",
    "device = torch.device('cuda' if torch.cuda.is_available() else 'cpu')\n",
    "\n",
    "# Layers\n",
    "n_in = len(attr_keys)\n",
    "n_out = len(labl_keys)\n",
    "n_hidden = 60\n",
    "\n",
    "# Training\n",
    "learning_rate = 0.001\n",
    "epochs = 5000\n",
    "\n",
    "# Optimiser\n",
    "optimiser = torch.optim.Adamax\n",
    "\n",
    "# Activation\n",
    "activation_fn = nn.Sigmoid()\n",
    "\n",
    "# Loss\n",
    "loss_fn = nn.L1Loss()\n",
    "\n",
    "# plot interval\n",
    "rec_interval = 5\n"
   ]
  },
  {
   "cell_type": "code",
   "execution_count": 36,
   "metadata": {},
   "outputs": [],
   "source": [
    "### LOGISTICAL REGRESSION MODEL ###\n",
    "\n",
    "# Run a logistic regression before doing the tensor conversion\n",
    "logit = LogisticRegression(solver='liblinear')\n",
    "lr_accs = [0.]*n_out\n",
    "\n",
    "for i in [1,3]:\n",
    "    logit.fit(attr_train, labl_train.T[i])\n",
    "    lr_accs[i] = logit.predict_proba(attr_test)[:,1].tolist()\n",
    "for i in [0,2]:\n",
    "    lr_accs[i] = [0.]*len(lr_accs[1]) # continuous outputs cannot be modelled, placeholder values used\n"
   ]
  },
  {
   "cell_type": "code",
   "execution_count": 37,
   "metadata": {},
   "outputs": [],
   "source": [
    "### TENSOR CONVERSIONS ###\n",
    "\n",
    "lr_accs = torch.FloatTensor(lr_accs).T\n",
    "attr_train = torch.FloatTensor(attr_train).to(device)\n",
    "attr_test = torch.FloatTensor(attr_test).to(device)\n",
    "labl_train = torch.FloatTensor(labl_train).to(device)\n",
    "labl_test = torch.FloatTensor(labl_test).to(device)"
   ]
  },
  {
   "cell_type": "code",
   "execution_count": 7,
   "metadata": {},
   "outputs": [],
   "source": [
    "### INITIALISE AND RUN THE NEURAL NET ###\n",
    "\n",
    "# Function for reading accuracy of result which rounds to 0 or 1\n",
    "def binary_acc(Y_hat, labl_test, index):\n",
    "        \n",
    "    successes = 0\n",
    "    confidence = [0]*len(Y_hat)\n",
    "    calc = Y_hat.T.tolist()[index]\n",
    "    real = labl_test.T.tolist()[index]\n",
    "\n",
    "    for i in range(len(calc)):\n",
    "\n",
    "        confidence[i] = 1 - abs(round(calc[i]) - calc[i])\n",
    "        successes += int(round(calc[i]) == real[i])\n",
    "        \n",
    "    accuracy = successes / len(calc)\n",
    "    avg_conf = np.mean(confidence)\n",
    "\n",
    "    return accuracy, avg_conf\n",
    "\n",
    "def train(optimiser, loss_fn, attr_train, attr_test, labl_train, labl_test, rec_interval, n_in, n_hidden, n_out):\n",
    "\n",
    "    # initialise model and results storage\n",
    "    model = ANN(activation_fn, n_in, n_hidden, n_out).to(device)\n",
    "    optimiser = optimiser(model.parameters(), lr=learning_rate)\n",
    "    losses = []\n",
    "    match_win_acc = []\n",
    "    set_win_acc = []\n",
    "\n",
    "    # run the model\n",
    "    for i in range(epochs):\n",
    "\n",
    "        # calculate\n",
    "        labl_hat = model.forward(attr_train)\n",
    "        loss = loss_fn(labl_hat, labl_train)\n",
    "\n",
    "        # update model\n",
    "        optimiser.zero_grad()\n",
    "        loss.backward()\n",
    "        optimiser.step()\n",
    "\n",
    "        # for plotting\n",
    "        if not i % rec_interval: \n",
    "            with torch.no_grad():\n",
    "                Y_hat = model.forward(attr_test)\n",
    "            match_win_acc.append(binary_acc(Y_hat, labl_test, 1)[0])\n",
    "            set_win_acc.append(binary_acc(Y_hat, labl_test, 3)[0])\n",
    "            losses.append(loss.item())\n",
    "            \n",
    "    return model, match_win_acc, set_win_acc, losses\n",
    "\n",
    "model, match_win_acc, set_win_acc, losses = train(optimiser, loss_fn, attr_train, attr_test, labl_train, labl_test, rec_interval, n_in, n_hidden, n_out)\n",
    "torch.save(model, 'model_'+str(sample_size)+'gm.torch')"
   ]
  },
  {
   "cell_type": "code",
   "execution_count": 8,
   "metadata": {},
   "outputs": [
    {
     "name": "stdout",
     "output_type": "stream",
     "text": [
      "Final Loss: 0.16984952986240387\n",
      "Runtime: 43.26436901092529s\n"
     ]
    },
    {
     "data": {
      "text/plain": [
       "Text(0.5, 1.0, 'Training Loss')"
      ]
     },
     "execution_count": 8,
     "metadata": {},
     "output_type": "execute_result"
    },
    {
     "data": {
      "image/png": "[encoded data removed]",
      "text/plain": [
       "<Figure size 432x288 with 1 Axes>"
      ]
     },
     "metadata": {
      "needs_background": "light"
     },
     "output_type": "display_data"
    },
    {
     "data": {
      "image/png": "[encoded data removed]",
      "text/plain": [
       "<Figure size 432x288 with 1 Axes>"
      ]
     },
     "metadata": {
      "needs_background": "light"
     },
     "output_type": "display_data"
    }
   ],
   "source": [
    "### PLOT AND DISPLAY THE MODEL TRAINING LOSS AND ACCURACY ###\n",
    "\n",
    "# Display\n",
    "print(f'Final Loss: {losses[-1]}')\n",
    "print(f'Runtime: {time.time() - t}s')\n",
    "\n",
    "# Accuracy\n",
    "plt.plot(match_win_acc)\n",
    "plt.plot(set_win_acc)\n",
    "plt.ylabel('Accuracy')\n",
    "plt.xlabel(f'x{rec_interval} Epochs')\n",
    "plt.title('Training Accuracy')\n",
    "plt.legend(['match_win', 'set_win'])\n",
    "\n",
    "# Loss\n",
    "plt.figure()\n",
    "plt.plot(losses)\n",
    "plt.ylabel('Loss')\n",
    "plt.xlabel(f'x{rec_interval} Epochs')\n",
    "plt.title('Training Loss')\n"
   ]
  },
  {
   "cell_type": "code",
   "execution_count": 9,
   "metadata": {},
   "outputs": [
    {
     "name": "stdout",
     "output_type": "stream",
     "text": [
      "nn_match_win correct 67.51% of the time with average system confidence 0.9971408506063304 for sample size of 4 games\n",
      "lr_match_win correct 68.15% of the time with average system confidence 0.6756597947080083 for sample size of 4 games\n",
      "nn_set_win correct 68.49% of the time  with average system confidence 0.9978289602343745 for sample size of 4 games\n",
      "lr_set_win correct 69.0% of the time  with average system confidence 0.6874760692414574 for sample size of 4 games\n"
     ]
    }
   ],
   "source": [
    "### MEASURE ACCURACY ###\n",
    "\n",
    "# of the logistic regressions\n",
    "lr_match_win_acc, lr_match_avg_conf = binary_acc(lr_accs, labl_test, 1)\n",
    "lr_set_win_acc, lr_set_avg_conf = binary_acc(lr_accs, labl_test, 3)\n",
    "\n",
    "# Run the model forward with test data\n",
    "with torch.no_grad():\n",
    "    Y_hat = model.forward(attr_test)\n",
    "\n",
    "# of the ANN\n",
    "nn_match_win_acc, nn_match_avg_conf = binary_acc(Y_hat, labl_test, 1)\n",
    "nn_set_win_acc, nn_set_avg_conf = binary_acc(Y_hat, labl_test, 3)\n",
    "\n",
    "print(f'nn_match_win correct {round(nn_match_win_acc*100,2)}% of the time with average system confidence {nn_match_avg_conf} for sample size of {sample_size} games')\n",
    "print(f'lr_match_win correct {round(lr_match_win_acc*100,2)}% of the time with average system confidence {lr_match_avg_conf} for sample size of {sample_size} games')\n",
    "print(f'nn_set_win correct {round(nn_set_win_acc*100,2)}% of the time  with average system confidence {nn_set_avg_conf} for sample size of {sample_size} games')\n",
    "print(f'lr_set_win correct {round(lr_set_win_acc*100,2)}% of the time  with average system confidence {lr_set_avg_conf} for sample size of {sample_size} games')\n",
    "      "
   ]
  },
  {
   "cell_type": "code",
   "execution_count": 10,
   "metadata": {},
   "outputs": [
    {
     "name": "stdout",
     "output_type": "stream",
     "text": [
      "{'svr': 0, 'pt_wr': 0, 'gm_wr': 0, 'f0': 0, 'r0': 0, 'v0': 0, 'u0': 0, 'l0': 0, 'h0': 0, 'j0': 0, 'o0': 0, 'b0': 0, 's0': 0, 'z0': 0, 'y0': 0, 'm0': 0, 'i0': 0, 'k0': 0, 'p0': 0, 't0': 0, 'q0': 0, '@0': 0, '10': 0, '20': 0, '30': 0, '40': 0, '50': 0, '60': 0, '70': 0, '80': 0, '90': 0, 'hnd0': 0, 'fr0': 0, 'fsr0': 0, 'swr0': 0, 'ssr0': 0, 'f1': 0, 'r1': 0, 'v1': 0, 'u1': 0, 'l1': 0, 'h1': 0, 'j1': 0, 'o1': 0, 'b1': 0, 's1': 0, 'z1': 0, 'y1': 0, 'm1': 0, 'i1': 0, 'k1': 0, 'p1': 0, 't1': 0, 'q1': 0, '@1': 0, '11': 0, '21': 0, '31': 0, '41': 0, '51': 0, '61': 0, '71': 0, '81': 0, '91': 0, 'hnd1': 0, 'fr1': 0, 'fsr1': 0, 'swr1': 0, 'ssr1': 0, 'hard': 0, 'clay': 0, 'grass': 0, 'gender': 0}\n"
     ]
    }
   ],
   "source": [
    "### MEASURE IMPACT OF EACH INPUT PARAMETER ###\n",
    "\n",
    "impacts = {k:0 for k in attr_keys}\n",
    "standard = nn_match_win_acc\n",
    "on = False\n",
    "\n",
    "for k in attr_keys:\n",
    "    \n",
    "    if not on:\n",
    "        break\n",
    "    \n",
    "    tmp = attr_keys.copy()\n",
    "    tmp.remove(k)\n",
    "\n",
    "    # read in\n",
    "    attr_data = pd.read_csv(filename, usecols = tmp).values\n",
    "    labl_data = pd.read_csv(filename, usecols = labl_keys).values\n",
    "\n",
    "    # test/train split\n",
    "    attr_train, attr_test, labl_train, labl_test = train_test_split(attr_data, labl_data, test_size=test_size, random_state=random_state)\n",
    "\n",
    "    attr_train = torch.FloatTensor(attr_train).to(device)\n",
    "    attr_test = torch.FloatTensor(attr_test).to(device)\n",
    "    labl_train = torch.FloatTensor(labl_train).to(device)\n",
    "    labl_test = torch.FloatTensor(labl_test).to(device)\n",
    "    \n",
    "    model, match_win_acc, set_win_acc, losses = train(optimiser, loss_fn, attr_train, attr_test, labl_train, labl_test, rec_interval, len(tmp), n_hidden, n_out)\n",
    "    \n",
    "    impacts[k] = (match_win_acc[-1] - standard) / standard\n",
    "\n",
    "print(impacts)\n"
   ]
  },
  {
   "cell_type": "code",
   "execution_count": 11,
   "metadata": {},
   "outputs": [
    {
     "name": "stdout",
     "output_type": "stream",
     "text": [
      "{'no_player': 0.0072578100347112234, 'no_match': -0.005995582202587533, 'no_rally_shots': 0.0022088987062164594, 'no_dirs': 0.004733354370463841}\n"
     ]
    }
   ],
   "source": [
    "### REMOVE LARGER GROUPS OF FEATURES TO TEST CONTRIBUTION ###\n",
    "\n",
    "tmp = shot_dir + sv_dir + ret_dir + misc_attributes_player\n",
    "no_rally_shots = misc_attributes + [s + '0' for s in tmp] + [s + '1' for s in tmp] + match_attributes\n",
    "tmp = rally_shots + misc_attributes_player\n",
    "no_dirs = misc_attributes + [s + '0' for s in tmp] + [s + '1' for s in tmp] + match_attributes\n",
    "tmp = rally_shots + shot_dir + sv_dir + ret_dir\n",
    "no_misc_player = misc_attributes + [s + '0' for s in tmp] + [s + '1' for s in tmp] + match_attributes\n",
    "no_misc_match = [s + '0' for s in player_attributes] + [s + '1' for s in player_attributes] + match_attributes\n",
    "no_match = [s + '0' for s in player_attributes] + [s + '1' for s in player_attributes]\n",
    "no_player = misc_attributes + match_attributes\n",
    "\n",
    "cases = [no_player, no_match, no_rally_shots, no_dirs]\n",
    "casenames = ['no_player', 'no_match', 'no_rally_shots', 'no_dirs']\n",
    "impacts = [0]*len(cases)\n",
    "on = True\n",
    "\n",
    "for i in range(len(cases)):\n",
    "    \n",
    "    if not on:\n",
    "        break\n",
    "    \n",
    "    # read in\n",
    "    attr_data = pd.read_csv(filename, usecols = cases[i]).values\n",
    "    labl_data = pd.read_csv(filename, usecols = labl_keys).values\n",
    "\n",
    "    # test/train split\n",
    "    attr_train, attr_test, labl_train, labl_test = train_test_split(attr_data, labl_data, test_size=test_size, random_state=random_state)\n",
    "\n",
    "    attr_train = torch.FloatTensor(attr_train).to(device)\n",
    "    attr_test = torch.FloatTensor(attr_test).to(device)\n",
    "    labl_train = torch.FloatTensor(labl_train).to(device)\n",
    "    labl_test = torch.FloatTensor(labl_test).to(device)\n",
    "    \n",
    "    model, match_win_acc, set_win_acc, losses = train(optimiser, loss_fn, attr_train, attr_test, labl_train, labl_test, rec_interval, len(cases[i]), n_hidden, n_out)\n",
    "    \n",
    "    impacts[i] = (match_win_acc[-1] - standard) / standard\n",
    "    \n",
    "impacts = dict(zip(casenames, impacts))\n",
    "print(impacts)\n",
    "    "
   ]
  },
  {
   "cell_type": "code",
   "execution_count": 43,
   "metadata": {},
   "outputs": [
    {
     "name": "stdout",
     "output_type": "stream",
     "text": [
      "0.7534246444702148\n"
     ]
    },
    {
     "data": {
      "text/plain": [
       "{'svr': 0.5,\n",
       " 'pt_wr': 0.6428571343421936,\n",
       " 'gm_wr': 0.75,\n",
       " 'f0': 0.4423076808452606,\n",
       " 'r0': 0.03846153989434242,\n",
       " 'v0': 0.0,\n",
       " 'u0': 0.0,\n",
       " 'l0': 0.0,\n",
       " 'h0': 0.0,\n",
       " 'j0': 0.0,\n",
       " 'o0': 0.01923076994717121,\n",
       " 'b0': 0.38461539149284363,\n",
       " 's0': 0.03846153989434242,\n",
       " 'z0': 0.0,\n",
       " 'y0': 0.0,\n",
       " 'm0': 0.0,\n",
       " 'i0': 0.0,\n",
       " 'k0': 0.0,\n",
       " 'p0': 0.0,\n",
       " 't0': 0.0,\n",
       " 'q0': 0.0,\n",
       " '@0': 0.07692307978868484,\n",
       " '10': 0.42553192377090454,\n",
       " '20': 0.3404255211353302,\n",
       " '30': 0.23404255509376526,\n",
       " '40': 0.3684210479259491,\n",
       " '50': 0.5789473652839661,\n",
       " '60': 0.05263157933950424,\n",
       " '70': 0.0,\n",
       " '80': 0.5555555820465088,\n",
       " '90': 0.4444444477558136,\n",
       " 'hnd0': 0.0,\n",
       " 'fr0': 0.3684210479259491,\n",
       " 'fsr0': 0.6315789222717285,\n",
       " 'swr0': 0.4285714328289032,\n",
       " 'ssr0': 0.0,\n",
       " 'f1': 0.5600000023841858,\n",
       " 'r1': 0.0,\n",
       " 'v1': 0.0,\n",
       " 'u1': 0.0,\n",
       " 'l1': 0.0,\n",
       " 'h1': 0.0,\n",
       " 'j1': 0.0,\n",
       " 'o1': 0.0,\n",
       " 'b1': 0.3400000035762787,\n",
       " 's1': 0.0,\n",
       " 'z1': 0.0,\n",
       " 'y1': 0.0,\n",
       " 'm1': 0.019999999552965164,\n",
       " 'i1': 0.0,\n",
       " 'k1': 0.019999999552965164,\n",
       " 'p1': 0.0,\n",
       " 't1': 0.0,\n",
       " 'q1': 0.0,\n",
       " '@1': 0.05999999865889549,\n",
       " '11': 0.40425533056259155,\n",
       " '21': 0.40425533056259155,\n",
       " '31': 0.19148936867713928,\n",
       " '41': 0.5263158082962036,\n",
       " '51': 0.15789473056793213,\n",
       " '61': 0.31578946113586426,\n",
       " '71': 0.3333333432674408,\n",
       " '81': 0.4444444477558136,\n",
       " '91': 0.2222222238779068,\n",
       " 'hnd1': 0.0,\n",
       " 'fr1': 0.31578946113586426,\n",
       " 'fsr1': 0.6842105388641357,\n",
       " 'swr1': 0.7142857313156128,\n",
       " 'ssr1': 0.0,\n",
       " 'hard': 1.0,\n",
       " 'clay': 0.0,\n",
       " 'grass': 0.0,\n",
       " 'gender': 0.0}"
      ]
     },
     "execution_count": 43,
     "metadata": {},
     "output_type": "execute_result"
    }
   ],
   "source": [
    "largest = max(labl_test.T[0].tolist())\n",
    "print(largest)\n",
    "i = labl_test.T[0].tolist().index(largest)\n",
    "dict(zip(attr_keys, attr_test[i].tolist()))"
   ]
  },
  {
   "cell_type": "code",
   "execution_count": null,
   "metadata": {},
   "outputs": [],
   "source": []
  }
 ],
 "metadata": {
  "kernelspec": {
   "display_name": "Python 3",
   "language": "python",
   "name": "python3"
  },
  "language_info": {
   "codemirror_mode": {
    "name": "ipython",
    "version": 3
   },
   "file_extension": ".py",
   "mimetype": "text/x-python",
   "name": "python",
   "nbconvert_exporter": "python",
   "pygments_lexer": "ipython3",
   "version": "3.8.3"
  }
 },
 "nbformat": 4,
 "nbformat_minor": 4
}
