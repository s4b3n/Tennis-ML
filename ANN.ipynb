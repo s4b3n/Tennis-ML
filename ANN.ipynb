{
 "cells": [
  {
   "cell_type": "code",
   "execution_count": 1,
   "metadata": {},
   "outputs": [],
   "source": [
    "### IMPORTS ###\n",
    "\n",
    "import pandas as pd\n",
    "import numpy as np\n",
    "import matplotlib.pyplot as plt\n",
    "import torch\n",
    "import torch.nn as nn\n",
    "import time\n",
    "from sklearn.model_selection import train_test_split\n",
    "from sklearn.linear_model import LogisticRegression\n",
    "\n",
    "from dictionaries import *\n",
    "from ANN import *\n"
   ]
  },
  {
   "cell_type": "code",
   "execution_count": 2,
   "metadata": {},
   "outputs": [],
   "source": [
    "### GLOBAL PARAMETERS ###\n",
    "\n",
    "t = time.time()         # to display runtime later\n",
    "sample_size = 2\n",
    "filename = 'ML_input_' + str(sample_size) + 'gm.csv'\n"
   ]
  },
  {
   "cell_type": "code",
   "execution_count": 3,
   "metadata": {},
   "outputs": [],
   "source": [
    "### DATA IMPORT ###\n",
    "\n",
    "# split parameters\n",
    "test_size = 0.2\n",
    "random_state = 42\n",
    "\n",
    "# read in\n",
    "attr_data = pd.read_csv(filename, usecols = attr_keys).values\n",
    "labl_data = pd.read_csv(filename, usecols = labl_keys).values\n",
    "\n",
    "# test/train split\n",
    "attr_train, attr_test, labl_train, labl_test = train_test_split(attr_data, labl_data, test_size=test_size, random_state=random_state)\n"
   ]
  },
  {
   "cell_type": "code",
   "execution_count": 4,
   "metadata": {},
   "outputs": [],
   "source": [
    "## MODEL PARAMETERS ###\n",
    "\n",
    "# CUDA\n",
    "device = torch.device('cuda' if torch.cuda.is_available() else 'cpu')\n",
    "\n",
    "# Layers\n",
    "n_in = len(attr_keys)\n",
    "n_out = len(labl_keys)\n",
    "n_hidden = 60\n",
    "\n",
    "# Training\n",
    "learning_rate = 0.001\n",
    "epochs = 2500\n",
    "\n",
    "# Optimiser\n",
    "optimiser = torch.optim.Adamax\n",
    "\n",
    "# Activation\n",
    "activation_fn = nn.Sigmoid()\n",
    "\n",
    "# Loss\n",
    "loss_fn = nn.L1Loss()\n",
    "\n",
    "# plot interval\n",
    "rec_interval = 5\n"
   ]
  },
  {
   "cell_type": "code",
   "execution_count": 5,
   "metadata": {},
   "outputs": [],
   "source": [
    "### LOGISTICAL REGRESSION MODEL ###\n",
    "\n",
    "# Run a logistic regression before doing the tensor conversion\n",
    "logit = LogisticRegression(solver='liblinear')\n",
    "lr_accs = [0.]*n_out\n",
    "\n",
    "for i in [1,3]:\n",
    "    logit.fit(attr_train, labl_train.T[i])\n",
    "    lr_accs[i] = logit.predict_proba(attr_test)[:,1].tolist()\n",
    "for i in [0,2]:\n",
    "    lr_accs[i] = [0.]*len(lr_accs[1]) # continuous outputs cannot be modelled, placeholder values used\n"
   ]
  },
  {
   "cell_type": "code",
   "execution_count": 6,
   "metadata": {},
   "outputs": [],
   "source": [
    "### TENSOR CONVERSIONS ###\n",
    "\n",
    "lr_accs = torch.FloatTensor(lr_accs).T\n",
    "attr_train = torch.FloatTensor(attr_train).to(device)\n",
    "attr_test = torch.FloatTensor(attr_test).to(device)\n",
    "labl_train = torch.FloatTensor(labl_train).to(device)\n",
    "labl_test = torch.FloatTensor(labl_test).to(device)"
   ]
  },
  {
   "cell_type": "code",
   "execution_count": 7,
   "metadata": {},
   "outputs": [],
   "source": [
    "### MODEL FUNCTIONS ###\n",
    "\n",
    "# Function for reading accuracy of result which rounds to 0 or 1\n",
    "def binary_acc(Y_hat, Y, index):\n",
    "        \n",
    "    successes = 0\n",
    "    confidence = [0]*len(Y_hat)\n",
    "    calc = Y_hat.T.tolist()[index]\n",
    "    real = Y.T.tolist()[index]\n",
    "\n",
    "    for i in range(len(calc)):\n",
    "\n",
    "        confidence[i] = 1 - abs(round(calc[i]) - calc[i])\n",
    "        successes += int(round(calc[i]) == real[i])\n",
    "        \n",
    "    accuracy = successes / len(calc)\n",
    "    avg_conf = np.mean(confidence)\n",
    "\n",
    "    return accuracy, avg_conf\n",
    "\n",
    "def cont_acc(Y_hat, Y, index):\n",
    "\n",
    "    calc = Y_hat.T.tolist()[index]\n",
    "    real = Y.T.tolist()[index]\n",
    "    \n",
    "    SE = []\n",
    "    for i in range(len(Y_hat.T[index])):\n",
    "        SE.append((real[i] - calc[i])**2)\n",
    "\n",
    "    return np.mean(SE)\n",
    "\n",
    "def train(optimiser, loss_fn, attr_train, attr_test, labl_train, labl_test, rec_interval, n_in, n_hidden, n_out):\n",
    "\n",
    "    # initialise model and results storage\n",
    "    model = ANN(activation_fn, n_in, n_hidden, n_out).to(device)\n",
    "    optimiser = optimiser(model.parameters(), lr=learning_rate)\n",
    "    losses = []\n",
    "    accs = [ [] for i in range(n_out)]\n",
    "\n",
    "    # run the model\n",
    "    for i in range(epochs):\n",
    "\n",
    "        # calculate\n",
    "        labl_hat = model.forward(attr_train)\n",
    "        loss = loss_fn(labl_hat, labl_train)\n",
    "\n",
    "        # update model\n",
    "        optimiser.zero_grad()\n",
    "        loss.backward()\n",
    "        optimiser.step()\n",
    "\n",
    "        # for plotting\n",
    "        if not i % rec_interval: \n",
    "            with torch.no_grad():\n",
    "                Y_hat = model.forward(attr_test)\n",
    "            accs[0].append(cont_acc(Y_hat, labl_test, 0))\n",
    "            accs[1].append(binary_acc(Y_hat, labl_test, 1)[0])\n",
    "            accs[2].append(cont_acc(Y_hat, labl_test, 2))\n",
    "            accs[3].append(binary_acc(Y_hat, labl_test, 3)[0])\n",
    "            losses.append(loss.item())\n",
    "            \n",
    "    return model, accs, losses\n"
   ]
  },
  {
   "cell_type": "code",
   "execution_count": 8,
   "metadata": {},
   "outputs": [
    {
     "name": "stdout",
     "output_type": "stream",
     "text": [
      "Final Loss: 0.20171265304088593\n",
      "Runtime: 51.35194182395935s\n"
     ]
    },
    {
     "data": {
      "text/plain": [
       "Text(0.5, 0, 'x5 Epochs')"
      ]
     },
     "execution_count": 8,
     "metadata": {},
     "output_type": "execute_result"
    },
    {
     "data": {
      "image/png": "[encoded data removed]",
      "text/plain": [
       "<Figure size 432x288 with 1 Axes>"
      ]
     },
     "metadata": {
      "needs_background": "light"
     },
     "output_type": "display_data"
    },
    {
     "data": {
      "image/png": "[encoded data removed]",
      "text/plain": [
       "<Figure size 432x288 with 1 Axes>"
      ]
     },
     "metadata": {
      "needs_background": "light"
     },
     "output_type": "display_data"
    },
    {
     "data": {
      "image/png": "[encoded data removed]",
      "text/plain": [
       "<Figure size 432x288 with 1 Axes>"
      ]
     },
     "metadata": {
      "needs_background": "light"
     },
     "output_type": "display_data"
    }
   ],
   "source": [
    "### RUN AND DISPLAY THE MODEL TRAINING LOSS AND ACCURACY ###\n",
    "\n",
    "model, accs, losses = train(optimiser, loss_fn, attr_train, attr_test, labl_train, labl_test, rec_interval, n_in, n_hidden, n_out)\n",
    "torch.save(model, 'model_'+str(sample_size)+'gm.torch')\n",
    "\n",
    "# Display\n",
    "print(f'Final Loss: {losses[-1]}')\n",
    "print(f'Runtime: {time.time() - t}s')\n",
    "\n",
    "# Accuracy\n",
    "plt.plot(accs[1])\n",
    "plt.plot(accs[3])\n",
    "plt.ylabel('Win Prediction Accuracy')\n",
    "plt.xlabel(f'x{rec_interval} Epochs')\n",
    "plt.legend(['match_win', 'set_win'])\n",
    "\n",
    "# Accuracy\n",
    "plt.figure()\n",
    "plt.plot(accs[0])\n",
    "plt.plot(accs[2])\n",
    "plt.ylabel('Win Rate MSE')\n",
    "plt.xlabel(f'x{rec_interval} Epochs')\n",
    "plt.legend(['match_wr', 'set_wr'])\n",
    "\n",
    "# Loss\n",
    "plt.figure()\n",
    "plt.plot(losses)\n",
    "plt.ylabel('Loss')\n",
    "plt.xlabel(f'x{rec_interval} Epochs')\n"
   ]
  },
  {
   "cell_type": "code",
   "execution_count": 9,
   "metadata": {},
   "outputs": [
    {
     "name": "stdout",
     "output_type": "stream",
     "text": [
      "nn_match_win correct 63.63% of the time for sample size of 2 games\n",
      "lr_match_win correct 64.19% of the time with average system confidence 0.6334448149843532 for sample size of 2 games\n",
      "nn_set_win correct 64.66% of the time for sample size of 2 games\n",
      "lr_set_win correct 64.93% of the time  with average system confidence 0.6421339422645517 for sample size of 2 games\n",
      "nn_match_wr MAE: 0.003140822449529804\n",
      "nn_set_wr MAE: 0.005216470488866442\n"
     ]
    }
   ],
   "source": [
    "### MEASURE ACCURACY ###\n",
    "\n",
    "# of the logistic regressions\n",
    "lr_match_win_acc, lr_match_avg_conf = binary_acc(lr_accs, labl_test, 1)\n",
    "lr_set_win_acc, lr_set_avg_conf = binary_acc(lr_accs, labl_test, 3)\n",
    "\n",
    "# Run the model forward with test data\n",
    "with torch.no_grad():\n",
    "    Y_hat = model.forward(attr_test)\n",
    "\n",
    "print(f'nn_match_win correct {round(accs[1][-1]*100,2)}% of the time for sample size of {sample_size} games')\n",
    "print(f'lr_match_win correct {round(lr_match_win_acc*100,2)}% of the time with average system confidence {lr_match_avg_conf} for sample size of {sample_size} games')\n",
    "print(f'nn_set_win correct {round(accs[3][-1]*100,2)}% of the time for sample size of {sample_size} games')\n",
    "print(f'lr_set_win correct {round(lr_set_win_acc*100,2)}% of the time  with average system confidence {lr_set_avg_conf} for sample size of {sample_size} games')\n",
    "print(f'nn_match_wr MAE: {accs[0][-1]}')\n",
    "print(f'nn_set_wr MAE: {accs[2][-1]}')\n",
    "      "
   ]
  },
  {
   "cell_type": "code",
   "execution_count": 10,
   "metadata": {},
   "outputs": [
    {
     "name": "stdout",
     "output_type": "stream",
     "text": [
      "{'svr': 0.012712281446632308, 'pt_wr': -0.01871325491229072, 'gm_wr': -0.03913850439712405, 'f0': 0.0015624587230073908, 'r0': 0.008147637887547413, 'v0': -0.019321593931332853, 'u0': 0.01375322313203166, 'l0': 0.013413935084827244, 'h0': -0.004336394639297699, 'j0': -0.0028228469581032794, 'o0': 0.00479373440806133, 'b0': 0.012227038783263804, 's0': -0.009088189026806503, 'z0': 0.0014109504582847875, 'y0': 0.0051366966838637985, 'm0': -0.011645487675559707, 'i0': -0.00785327615449205, 'k0': -0.01634867350027586, 'p0': 0.008523597036643574, 't0': 0.01353401931701228, 'q0': -0.012616514189479252, '@0': -0.031604090080751726, '10': 0.003970800256744648, '20': -0.0035222084106256565, '30': -0.0007176091661676764, '40': 0.005301302384274701, '50': -0.00595619360950271, '60': 0.017723013546007374, '70': -0.024873512672881286, '80': 0.015157776426834364, '90': 0.013214780273847282, '+0': -0.0077626142985536715, 'hnd0': 0.008487346969195642, 'fr0': 0.009130242516403087, 'fsr0': -0.0031817017986516777, 'swr0': -0.0035867091462326544, 'ssr0': -0.007681692104476194, 'f1': -0.005328278447268531, 'r1': 0.005476377636659891, 'v1': 0.0014221613955063125, 'u1': 0.014271254259316872, 'l1': -0.02525452379146979, 'h1': 0.01947178243038555, 'j1': 0.003429422799187402, 'o1': -0.019498420405822496, 'b1': -0.008900858970931343, 's1': -0.01216957652165244, 'z1': 0.0010325463876749079, 'y1': 0.0005398410256020724, 'm1': -0.013777016599973043, 'i1': -0.00247153845266439, 'k1': 0.02440321897350562, 'p1': -0.008093940563655148, 't1': 0.018940020532075625, 'q1': -0.001649598353348362, '@1': 0.033153704565484075, '11': -0.007257793315996726, '21': 0.010592574292483429, '31': 0.013222986323914181, '41': -0.013255655765533447, '51': -0.00045495028413521744, '61': -0.011881824429534997, '71': 0.018370486974405745, '81': -0.006488233665004372, '91': -0.03184776966202965, '+1': -0.02960650428625134, 'hnd1': 0.006740649107086938, 'fr1': -0.006258567973660926, 'fsr1': -0.0004618040363614758, 'swr1': -0.018892740011021186, 'ssr1': 0.010473319135295847, 'hard': -0.0018572864665960273, 'clay': -0.02730761612765491, 'grass': 0.03276823535367536, 'gender': -0.005219988093206969}\n"
     ]
    }
   ],
   "source": [
    "### GET THE AVERAGE OF EVERY FEATURE'S WEIGHTS BETWEEN INPUT AND HIDDEN LAYERS ###\n",
    "\n",
    "avg_weights = {k:0 for k in attr_keys}\n",
    "for i in range(n_in):\n",
    "    avg_weights[attr_keys[i]] = np.mean(model.linear_in.weight.T[i].tolist())\n",
    "    \n",
    "print(avg_weights)\n"
   ]
  },
  {
   "cell_type": "code",
   "execution_count": 12,
   "metadata": {},
   "outputs": [
    {
     "name": "stdout",
     "output_type": "stream",
     "text": [
      "{'svr': -0.9950620561678664, 'pt_wr': -0.9950631168170088, 'gm_wr': -0.9950255624361322, 'f0': -0.9950667709480481, 'r0': -0.9950687870614349, 'v0': -0.9950637323010457, 'u0': -0.9950630787749745, 'l0': -0.9950624354978904, 'h0': -0.9950640605442155, 'j0': -0.9950638425353469, 'o0': -0.9950640308160599, 'b0': -0.9950649847505829, 's0': -0.9950642518988051, 'z0': -0.9950635547615623, 'y0': -0.9950684727174731, 'm0': -0.9950663649597525, 'i0': -0.995065155586625, 'k0': -0.9950670453173477, 'p0': -0.9950662718372764, 't0': -0.9950660320879428, 'q0': -0.9950628872299994, '@0': -0.9950671212812097, '10': -0.9950662390031616, '20': -0.9950683737623107, '30': -0.9950658174797167, '40': -0.9950657794258612, '50': -0.9950644544725677, '60': -0.9950650506217635, '70': -0.9950639060754046, '80': -0.9950653839247999, '90': -0.9950691459093595, '+0': -0.9950651154235758, 'hnd0': -0.995064993840135, 'fr0': -0.9950678856686043, 'fsr0': -0.9950682128845385, 'swr0': -0.995066060517525, 'ssr0': -0.9950691630705121, 'f1': -0.9950654042923581, 'r1': -0.9950633989822595, 'v1': -0.9950661269219885, 'u1': -0.9950679340727885, 'l1': -0.9950672173936931, 'h1': -0.9950665397334797, 'j1': -0.9950642789458448, 'o1': -0.9950687904050999, 'b1': -0.9950663427109354, 's1': -0.9950691480548911, 'z1': -0.995069027827717, 'y1': -0.9950663309238847, 'm1': -0.9950688522200382, 'i1': -0.9950664005687134, 'k1': -0.9950693606420374, 'p1': -0.9950661365586878, 't1': -0.9950673773809671, 'q1': -0.9950629813434032, '@1': -0.9950665553109523, '11': -0.9950651568820263, '21': -0.9950681036026734, '31': -0.9950656093167768, '41': -0.995068304841921, '51': -0.9950680986190122, '61': -0.9950688688969823, '71': -0.9950667148177288, '81': -0.9950675487747063, '91': -0.9950651374772372, '+1': -0.9950659384461564, 'hnd1': -0.9950670330368554, 'fr1': -0.9950686840995216, 'fsr1': -0.9950673553426859, 'swr1': -0.9950605446968489, 'ssr1': -0.9950664197577129, 'hard': -0.9950665607781177, 'clay': -0.9950649614821633, 'grass': -0.9950675422904155, 'gender': -0.9950673588389167}\n"
     ]
    }
   ],
   "source": [
    "### MEASURE IMPACT OF EACH INPUT PARAMETER ###\n",
    "on = True\n",
    "\n",
    "impacts = {k:0 for k in attr_keys}\n",
    "standard = accs[1][-1]\n",
    "\n",
    "for k in attr_keys:\n",
    "    \n",
    "    if not on:\n",
    "        break\n",
    "    \n",
    "    tmp = attr_keys.copy()\n",
    "    tmp.remove(k)\n",
    "\n",
    "    # read in\n",
    "    attr_data = pd.read_csv(filename, usecols = tmp).values\n",
    "    labl_data = pd.read_csv(filename, usecols = labl_keys).values\n",
    "\n",
    "    # test/train split\n",
    "    attr_train, attr_test, labl_train, labl_test = train_test_split(attr_data, labl_data, test_size=test_size, random_state=random_state)\n",
    "\n",
    "    attr_train = torch.FloatTensor(attr_train).to(device)\n",
    "    attr_test = torch.FloatTensor(attr_test).to(device)\n",
    "    labl_train = torch.FloatTensor(labl_train).to(device)\n",
    "    labl_test = torch.FloatTensor(labl_test).to(device)\n",
    "    \n",
    "    model, accs, losses = train(optimiser, loss_fn, attr_train, attr_test, labl_train, labl_test, rec_interval, len(tmp), n_hidden, n_out)\n",
    "    \n",
    "    impacts[k] = (accs[0][-1] - standard) / standard\n",
    "\n",
    "if on:\n",
    "    print(impacts)\n"
   ]
  },
  {
   "cell_type": "code",
   "execution_count": null,
   "metadata": {},
   "outputs": [],
   "source": []
  }
 ],
 "metadata": {
  "kernelspec": {
   "display_name": "Python 3",
   "language": "python",
   "name": "python3"
  },
  "language_info": {
   "codemirror_mode": {
    "name": "ipython",
    "version": 3
   },
   "file_extension": ".py",
   "mimetype": "text/x-python",
   "name": "python",
   "nbconvert_exporter": "python",
   "pygments_lexer": "ipython3",
   "version": "3.8.3"
  }
 },
 "nbformat": 4,
 "nbformat_minor": 4
}
